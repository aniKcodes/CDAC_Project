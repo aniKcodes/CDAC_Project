{
 "cells": [
  {
   "cell_type": "code",
   "execution_count": 3,
   "id": "4d268cc6-bf35-4b2b-9589-b6ceca06cdde",
   "metadata": {},
   "outputs": [],
   "source": [
    "import pandas as pd\n",
    "import openpyxl as op"
   ]
  },
  {
   "cell_type": "code",
   "execution_count": 6,
   "id": "96401d4b-79a9-4a05-a821-156c22e72ed8",
   "metadata": {},
   "outputs": [
    {
     "data": {
      "text/html": [
       "<div>\n",
       "<style scoped>\n",
       "    .dataframe tbody tr th:only-of-type {\n",
       "        vertical-align: middle;\n",
       "    }\n",
       "\n",
       "    .dataframe tbody tr th {\n",
       "        vertical-align: top;\n",
       "    }\n",
       "\n",
       "    .dataframe thead th {\n",
       "        text-align: right;\n",
       "    }\n",
       "</style>\n",
       "<table border=\"1\" class=\"dataframe\">\n",
       "  <thead>\n",
       "    <tr style=\"text-align: right;\">\n",
       "      <th></th>\n",
       "      <th>Country</th>\n",
       "      <th>Year</th>\n",
       "      <th>AverageTemperature</th>\n",
       "      <th>Code</th>\n",
       "      <th>Annual nitrous oxide emissions in CO₂ equivalents</th>\n",
       "      <th>Annual methane emissions in CO₂ equivalents</th>\n",
       "      <th>Annual CO₂ emissions</th>\n",
       "    </tr>\n",
       "  </thead>\n",
       "  <tbody>\n",
       "    <tr>\n",
       "      <th>0</th>\n",
       "      <td>Afghanistan</td>\n",
       "      <td>1850</td>\n",
       "      <td>13.185427</td>\n",
       "      <td>AFG</td>\n",
       "      <td>223008.40</td>\n",
       "      <td>3594926.5</td>\n",
       "      <td>3520884.0</td>\n",
       "    </tr>\n",
       "    <tr>\n",
       "      <th>1</th>\n",
       "      <td>Afghanistan</td>\n",
       "      <td>1851</td>\n",
       "      <td>13.391073</td>\n",
       "      <td>AFG</td>\n",
       "      <td>227659.61</td>\n",
       "      <td>3615134.5</td>\n",
       "      <td>3561188.2</td>\n",
       "    </tr>\n",
       "    <tr>\n",
       "      <th>2</th>\n",
       "      <td>Afghanistan</td>\n",
       "      <td>1852</td>\n",
       "      <td>13.337948</td>\n",
       "      <td>AFG</td>\n",
       "      <td>232190.92</td>\n",
       "      <td>3635346.8</td>\n",
       "      <td>3596619.0</td>\n",
       "    </tr>\n",
       "    <tr>\n",
       "      <th>3</th>\n",
       "      <td>Afghanistan</td>\n",
       "      <td>1853</td>\n",
       "      <td>13.270833</td>\n",
       "      <td>AFG</td>\n",
       "      <td>236528.19</td>\n",
       "      <td>3655563.5</td>\n",
       "      <td>3630340.0</td>\n",
       "    </tr>\n",
       "    <tr>\n",
       "      <th>4</th>\n",
       "      <td>Afghanistan</td>\n",
       "      <td>1854</td>\n",
       "      <td>13.481042</td>\n",
       "      <td>AFG</td>\n",
       "      <td>240597.22</td>\n",
       "      <td>3675785.0</td>\n",
       "      <td>3662827.5</td>\n",
       "    </tr>\n",
       "  </tbody>\n",
       "</table>\n",
       "</div>"
      ],
      "text/plain": [
       "       Country  Year  AverageTemperature Code  \\\n",
       "0  Afghanistan  1850           13.185427  AFG   \n",
       "1  Afghanistan  1851           13.391073  AFG   \n",
       "2  Afghanistan  1852           13.337948  AFG   \n",
       "3  Afghanistan  1853           13.270833  AFG   \n",
       "4  Afghanistan  1854           13.481042  AFG   \n",
       "\n",
       "   Annual nitrous oxide emissions in CO₂ equivalents  \\\n",
       "0                                          223008.40   \n",
       "1                                          227659.61   \n",
       "2                                          232190.92   \n",
       "3                                          236528.19   \n",
       "4                                          240597.22   \n",
       "\n",
       "   Annual methane emissions in CO₂ equivalents  Annual CO₂ emissions  \n",
       "0                                    3594926.5             3520884.0  \n",
       "1                                    3615134.5             3561188.2  \n",
       "2                                    3635346.8             3596619.0  \n",
       "3                                    3655563.5             3630340.0  \n",
       "4                                    3675785.0             3662827.5  "
      ]
     },
     "execution_count": 6,
     "metadata": {},
     "output_type": "execute_result"
    }
   ],
   "source": [
    "df = pd.read_csv('merged_data_inner.csv')\n",
    "df.head()"
   ]
  },
  {
   "cell_type": "code",
   "execution_count": 8,
   "id": "fd64b969-19e5-4a1c-8391-40738f2110ea",
   "metadata": {},
   "outputs": [],
   "source": [
    "from sklearn.preprocessing import StandardScaler\n",
    "\n",
    "# Standardize the CO2 and CH4 columns\n",
    "scaler = StandardScaler()\n",
    "df[['Annual CO₂ emissions', 'Annual methane emissions in CO₂ equivalents']] = scaler.fit_transform(df[['Annual CO₂ emissions', 'Annual methane emissions in CO₂ equivalents']])\n"
   ]
  },
  {
   "cell_type": "code",
   "execution_count": 16,
   "id": "adfbc743-7bc3-4a69-987a-af813e0ead06",
   "metadata": {},
   "outputs": [
    {
     "name": "stdout",
     "output_type": "stream",
     "text": [
      "                                             AverageTemperature  \\\n",
      "AverageTemperature                                     1.000000   \n",
      "Annual CO₂ emissions                                  -0.108433   \n",
      "Annual methane emissions in CO₂ equivalents           -0.081471   \n",
      "\n",
      "                                             Annual CO₂ emissions  \\\n",
      "AverageTemperature                                      -0.108433   \n",
      "Annual CO₂ emissions                                     1.000000   \n",
      "Annual methane emissions in CO₂ equivalents              0.851923   \n",
      "\n",
      "                                             Annual methane emissions in CO₂ equivalents  \n",
      "AverageTemperature                                                             -0.081471  \n",
      "Annual CO₂ emissions                                                            0.851923  \n",
      "Annual methane emissions in CO₂ equivalents                                     1.000000  \n"
     ]
    }
   ],
   "source": [
    "# Correlation matrix\n",
    "correlation_matrix = df[['AverageTemperature', 'Annual CO₂ emissions', 'Annual methane emissions in CO₂ equivalents']].corr()\n",
    "print(correlation_matrix)\n"
   ]
  },
  {
   "cell_type": "code",
   "execution_count": 10,
   "id": "6db67c07-6410-421f-8763-41019dc89cdb",
   "metadata": {},
   "outputs": [
    {
     "name": "stdout",
     "output_type": "stream",
     "text": [
      "                       Temperature_detrended  CO2_detrended  CH4_detrended\n",
      "Temperature_detrended               1.000000      -0.110089      -0.081803\n",
      "CO2_detrended                      -0.110089       1.000000       0.852838\n",
      "CH4_detrended                      -0.081803       0.852838       1.000000\n"
     ]
    }
   ],
   "source": [
    "from scipy.signal import detrend\n",
    "\n",
    "# Detrend the data\n",
    "df['Temperature_detrended'] = detrend(df['AverageTemperature'])\n",
    "df['CO2_detrended'] = detrend(df['Annual CO₂ emissions'])\n",
    "df['CH4_detrended'] = detrend(df['Annual methane emissions in CO₂ equivalents'])\n",
    "\n",
    "# Correlation matrix for detrended data\n",
    "detrended_correlation_matrix = df[['Temperature_detrended', 'CO2_detrended', 'CH4_detrended']].corr()\n",
    "print(detrended_correlation_matrix)\n"
   ]
  },
  {
   "cell_type": "code",
   "execution_count": 12,
   "id": "bd70ccfe-014f-4e97-9286-d7be468f6a42",
   "metadata": {},
   "outputs": [
    {
     "name": "stdout",
     "output_type": "stream",
     "text": [
      "                            OLS Regression Results                            \n",
      "==============================================================================\n",
      "Dep. Variable:     AverageTemperature   R-squared:                       0.012\n",
      "Model:                            OLS   Adj. R-squared:                  0.012\n",
      "Method:                 Least Squares   F-statistic:                     149.6\n",
      "Date:                Wed, 29 May 2024   Prob (F-statistic):           2.64e-65\n",
      "Time:                        22:23:10   Log-Likelihood:                -83585.\n",
      "No. Observations:               24248   AIC:                         1.672e+05\n",
      "Df Residuals:                   24245   BIC:                         1.672e+05\n",
      "Df Model:                           2                                         \n",
      "Covariance Type:            nonrobust                                         \n",
      "===============================================================================================================\n",
      "                                                  coef    std err          t      P>|t|      [0.025      0.975]\n",
      "---------------------------------------------------------------------------------------------------------------\n",
      "const                                          18.3584      0.049    376.118      0.000      18.263      18.454\n",
      "Annual CO₂ emissions                           -1.0882      0.093    -11.675      0.000      -1.271      -0.906\n",
      "Annual methane emissions in CO₂ equivalents     0.3041      0.093      3.263      0.001       0.121       0.487\n",
      "==============================================================================\n",
      "Omnibus:                     3534.114   Durbin-Watson:                   0.019\n",
      "Prob(Omnibus):                  0.000   Jarque-Bera (JB):             1926.451\n",
      "Skew:                          -0.549   Prob(JB):                         0.00\n",
      "Kurtosis:                       2.162   Cond. No.                         3.54\n",
      "==============================================================================\n",
      "\n",
      "Notes:\n",
      "[1] Standard Errors assume that the covariance matrix of the errors is correctly specified.\n"
     ]
    }
   ],
   "source": [
    "import statsmodels.api as sm\n",
    "\n",
    "# Prepare the independent variables (with a constant term for the intercept)\n",
    "X = df[['Annual CO₂ emissions', 'Annual methane emissions in CO₂ equivalents']]\n",
    "X = sm.add_constant(X)\n",
    "\n",
    "# Dependent variable\n",
    "y = df['AverageTemperature']\n",
    "\n",
    "# Fit the model\n",
    "model = sm.OLS(y, X).fit()\n",
    "\n",
    "# Print the summary\n",
    "print(model.summary())\n"
   ]
  },
  {
   "cell_type": "code",
   "execution_count": 13,
   "id": "71c76530-21a4-4894-9409-8eea24c83140",
   "metadata": {},
   "outputs": [
    {
     "name": "stdout",
     "output_type": "stream",
     "text": [
      "AverageTemperature  Annual CO₂ emissions  \\\n",
      "Country                                    \n",
      "Afghanistan                     0.010731   \n",
      "Albania                         0.282724   \n",
      "Algeria                         0.679854   \n",
      "Angola                          0.390454   \n",
      "Argentina                       0.169801   \n",
      "...                                  ...   \n",
      "Venezuela                       0.773036   \n",
      "Vietnam                         0.464098   \n",
      "Yemen                           0.775064   \n",
      "Zambia                          0.109239   \n",
      "Zimbabwe                        0.707064   \n",
      "\n",
      "AverageTemperature  Annual methane emissions in CO₂ equivalents  \n",
      "Country                                                          \n",
      "Afghanistan                                            0.576001  \n",
      "Albania                                                0.456505  \n",
      "Algeria                                                0.666195  \n",
      "Angola                                                 0.628653  \n",
      "Argentina                                              0.303552  \n",
      "...                                                         ...  \n",
      "Venezuela                                              0.571869  \n",
      "Vietnam                                                0.681765  \n",
      "Yemen                                                  0.775504  \n",
      "Zambia                                                 0.319978  \n",
      "Zimbabwe                                               0.684391  \n",
      "\n",
      "[149 rows x 2 columns]\n"
     ]
    },
    {
     "name": "stderr",
     "output_type": "stream",
     "text": [
      "/tmp/ipykernel_4561/1289851073.py:2: DeprecationWarning: DataFrameGroupBy.apply operated on the grouping columns. This behavior is deprecated, and in a future version of pandas the grouping columns will be excluded from the operation. Either pass `include_groups=False` to exclude the groupings or explicitly select the grouping columns after groupby to silence this warning.\n",
      "  country_corr = df.groupby('Country').apply(lambda group: group[['AverageTemperature', 'Annual CO₂ emissions', 'Annual methane emissions in CO₂ equivalents']].corr().iloc[0, 1:])\n"
     ]
    }
   ],
   "source": [
    "# Group by country and calculate correlations for each group\n",
    "country_corr = df.groupby('Country').apply(lambda group: group[['AverageTemperature', 'Annual CO₂ emissions', 'Annual methane emissions in CO₂ equivalents']].corr().iloc[0, 1:])\n",
    "\n",
    "print(country_corr)\n"
   ]
  },
  {
   "cell_type": "code",
   "execution_count": 17,
   "id": "31eeb82a-683b-4dd2-bf64-c6789b495fe0",
   "metadata": {},
   "outputs": [],
   "source": [
    "country_corr.to_excel('country_correlations.xlsx', index=False)"
   ]
  },
  {
   "cell_type": "code",
   "execution_count": null,
   "id": "8cfb595c-d809-4663-8887-e058c7de5256",
   "metadata": {},
   "outputs": [],
   "source": []
  }
 ],
 "metadata": {
  "kernelspec": {
   "display_name": "Python 3 (ipykernel)",
   "language": "python",
   "name": "python3"
  },
  "language_info": {
   "codemirror_mode": {
    "name": "ipython",
    "version": 3
   },
   "file_extension": ".py",
   "mimetype": "text/x-python",
   "name": "python",
   "nbconvert_exporter": "python",
   "pygments_lexer": "ipython3",
   "version": "3.10.12"
  }
 },
 "nbformat": 4,
 "nbformat_minor": 5
}
